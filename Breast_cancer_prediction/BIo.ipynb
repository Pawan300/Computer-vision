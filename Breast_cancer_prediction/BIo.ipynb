{
  "nbformat": 4,
  "nbformat_minor": 0,
  "metadata": {
    "colab": {
      "name": "BIo",
      "provenance": [],
      "collapsed_sections": [],
      "toc_visible": true,
      "include_colab_link": true
    },
    "kernelspec": {
      "name": "python3",
      "display_name": "Python 3"
    }
  },
  "cells": [
    {
      "cell_type": "markdown",
      "metadata": {
        "id": "view-in-github",
        "colab_type": "text"
      },
      "source": [
        "<a href=\"https://colab.research.google.com/github/Pawan300/Breast-Cancer-prediction/blob/master/BIo.ipynb\" target=\"_parent\"><img src=\"https://colab.research.google.com/assets/colab-badge.svg\" alt=\"Open In Colab\"/></a>"
      ]
    },
    {
      "cell_type": "code",
      "metadata": {
        "id": "QP_Yxnk_oaT-",
        "colab_type": "code",
        "colab": {}
      },
      "source": [
        "import numpy as np\n",
        "import pandas as pd\n",
        "import matplotlib.pyplot as plt\n",
        "import seaborn as sns\n",
        "import seaborn as sns\n",
        "from sklearn.model_selection import train_test_split"
      ],
      "execution_count": 0,
      "outputs": []
    },
    {
      "cell_type": "code",
      "metadata": {
        "id": "KYvRE5oJok3y",
        "colab_type": "code",
        "outputId": "9758b878-117d-4a9f-b853-d6d3ab5ff4c7",
        "colab": {
          "base_uri": "https://localhost:8080/",
          "height": 125
        }
      },
      "source": [
        "from google.colab import drive\n",
        "drive.mount('/content/drive')"
      ],
      "execution_count": 0,
      "outputs": [
        {
          "output_type": "stream",
          "text": [
            "Go to this URL in a browser: https://accounts.google.com/o/oauth2/auth?client_id=947318989803-6bn6qk8qdgf4n4g3pfee6491hc0brc4i.apps.googleusercontent.com&redirect_uri=urn%3Aietf%3Awg%3Aoauth%3A2.0%3Aoob&scope=email%20https%3A%2F%2Fwww.googleapis.com%2Fauth%2Fdocs.test%20https%3A%2F%2Fwww.googleapis.com%2Fauth%2Fdrive%20https%3A%2F%2Fwww.googleapis.com%2Fauth%2Fdrive.photos.readonly%20https%3A%2F%2Fwww.googleapis.com%2Fauth%2Fpeopleapi.readonly&response_type=code\n",
            "\n",
            "Enter your authorization code:\n",
            "··········\n",
            "Mounted at /content/drive\n"
          ],
          "name": "stdout"
        }
      ]
    },
    {
      "cell_type": "code",
      "metadata": {
        "id": "jzLzxzSgomCE",
        "colab_type": "code",
        "colab": {}
      },
      "source": [
        "% matplotlib inline"
      ],
      "execution_count": 0,
      "outputs": []
    },
    {
      "cell_type": "code",
      "metadata": {
        "id": "fNTjAebLtgtA",
        "colab_type": "code",
        "colab": {}
      },
      "source": [
        "try:\n",
        "  data=pd.read_csv(\"/content/drive/My Drive/Colab Notebooks/data/breast-cancer-wisconsin.data\",header=None)\n",
        "except Exception as e:\n",
        "  print(e)"
      ],
      "execution_count": 0,
      "outputs": []
    },
    {
      "cell_type": "code",
      "metadata": {
        "id": "YW9Pu3cduJW5",
        "colab_type": "code",
        "outputId": "1d071b57-478e-433a-98d7-0d060feb7af0",
        "colab": {
          "base_uri": "https://localhost:8080/",
          "height": 197
        }
      },
      "source": [
        "data.head()"
      ],
      "execution_count": 0,
      "outputs": [
        {
          "output_type": "execute_result",
          "data": {
            "text/html": [
              "<div>\n",
              "<style scoped>\n",
              "    .dataframe tbody tr th:only-of-type {\n",
              "        vertical-align: middle;\n",
              "    }\n",
              "\n",
              "    .dataframe tbody tr th {\n",
              "        vertical-align: top;\n",
              "    }\n",
              "\n",
              "    .dataframe thead th {\n",
              "        text-align: right;\n",
              "    }\n",
              "</style>\n",
              "<table border=\"1\" class=\"dataframe\">\n",
              "  <thead>\n",
              "    <tr style=\"text-align: right;\">\n",
              "      <th></th>\n",
              "      <th>0</th>\n",
              "      <th>1</th>\n",
              "      <th>2</th>\n",
              "      <th>3</th>\n",
              "      <th>4</th>\n",
              "      <th>5</th>\n",
              "      <th>6</th>\n",
              "      <th>7</th>\n",
              "      <th>8</th>\n",
              "      <th>9</th>\n",
              "      <th>10</th>\n",
              "    </tr>\n",
              "  </thead>\n",
              "  <tbody>\n",
              "    <tr>\n",
              "      <th>0</th>\n",
              "      <td>1000025</td>\n",
              "      <td>5</td>\n",
              "      <td>1</td>\n",
              "      <td>1</td>\n",
              "      <td>1</td>\n",
              "      <td>2</td>\n",
              "      <td>1</td>\n",
              "      <td>3</td>\n",
              "      <td>1</td>\n",
              "      <td>1</td>\n",
              "      <td>2</td>\n",
              "    </tr>\n",
              "    <tr>\n",
              "      <th>1</th>\n",
              "      <td>1002945</td>\n",
              "      <td>5</td>\n",
              "      <td>4</td>\n",
              "      <td>4</td>\n",
              "      <td>5</td>\n",
              "      <td>7</td>\n",
              "      <td>10</td>\n",
              "      <td>3</td>\n",
              "      <td>2</td>\n",
              "      <td>1</td>\n",
              "      <td>2</td>\n",
              "    </tr>\n",
              "    <tr>\n",
              "      <th>2</th>\n",
              "      <td>1015425</td>\n",
              "      <td>3</td>\n",
              "      <td>1</td>\n",
              "      <td>1</td>\n",
              "      <td>1</td>\n",
              "      <td>2</td>\n",
              "      <td>2</td>\n",
              "      <td>3</td>\n",
              "      <td>1</td>\n",
              "      <td>1</td>\n",
              "      <td>2</td>\n",
              "    </tr>\n",
              "    <tr>\n",
              "      <th>3</th>\n",
              "      <td>1016277</td>\n",
              "      <td>6</td>\n",
              "      <td>8</td>\n",
              "      <td>8</td>\n",
              "      <td>1</td>\n",
              "      <td>3</td>\n",
              "      <td>4</td>\n",
              "      <td>3</td>\n",
              "      <td>7</td>\n",
              "      <td>1</td>\n",
              "      <td>2</td>\n",
              "    </tr>\n",
              "    <tr>\n",
              "      <th>4</th>\n",
              "      <td>1017023</td>\n",
              "      <td>4</td>\n",
              "      <td>1</td>\n",
              "      <td>1</td>\n",
              "      <td>3</td>\n",
              "      <td>2</td>\n",
              "      <td>1</td>\n",
              "      <td>3</td>\n",
              "      <td>1</td>\n",
              "      <td>1</td>\n",
              "      <td>2</td>\n",
              "    </tr>\n",
              "  </tbody>\n",
              "</table>\n",
              "</div>"
            ],
            "text/plain": [
              "        0   1   2   3   4   5   6   7   8   9   10\n",
              "0  1000025   5   1   1   1   2   1   3   1   1   2\n",
              "1  1002945   5   4   4   5   7  10   3   2   1   2\n",
              "2  1015425   3   1   1   1   2   2   3   1   1   2\n",
              "3  1016277   6   8   8   1   3   4   3   7   1   2\n",
              "4  1017023   4   1   1   3   2   1   3   1   1   2"
            ]
          },
          "metadata": {
            "tags": []
          },
          "execution_count": 6
        }
      ]
    },
    {
      "cell_type": "code",
      "metadata": {
        "id": "htLE-xYWuLbS",
        "colab_type": "code",
        "outputId": "9299a21f-a510-4207-9dd6-04ae969e443a",
        "colab": {
          "base_uri": "https://localhost:8080/",
          "height": 34
        }
      },
      "source": [
        "data.shape"
      ],
      "execution_count": 0,
      "outputs": [
        {
          "output_type": "execute_result",
          "data": {
            "text/plain": [
              "(699, 11)"
            ]
          },
          "metadata": {
            "tags": []
          },
          "execution_count": 7
        }
      ]
    },
    {
      "cell_type": "code",
      "metadata": {
        "id": "537X7Nr0u0Ba",
        "colab_type": "code",
        "colab": {}
      },
      "source": [
        "for i in range(0,11):\n",
        "  data[i]=data[i].replace('?',np.NaN)"
      ],
      "execution_count": 0,
      "outputs": []
    },
    {
      "cell_type": "code",
      "metadata": {
        "id": "sokORxfZwvH6",
        "colab_type": "code",
        "outputId": "4c872a0f-6b3c-47b2-cddd-e1bcb96eed45",
        "colab": {
          "base_uri": "https://localhost:8080/",
          "height": 230
        }
      },
      "source": [
        "data.isnull().sum()"
      ],
      "execution_count": 0,
      "outputs": [
        {
          "output_type": "execute_result",
          "data": {
            "text/plain": [
              "0      0\n",
              "1      0\n",
              "2      0\n",
              "3      0\n",
              "4      0\n",
              "5      0\n",
              "6     16\n",
              "7      0\n",
              "8      0\n",
              "9      0\n",
              "10     0\n",
              "dtype: int64"
            ]
          },
          "metadata": {
            "tags": []
          },
          "execution_count": 9
        }
      ]
    },
    {
      "cell_type": "code",
      "metadata": {
        "id": "WqITb4rL5Rx4",
        "colab_type": "code",
        "colab": {}
      },
      "source": [
        "data[6].fillna('0',inplace=True)"
      ],
      "execution_count": 0,
      "outputs": []
    },
    {
      "cell_type": "code",
      "metadata": {
        "id": "VTkJj7AE5RwH",
        "colab_type": "code",
        "outputId": "42ace060-4137-4556-d6ec-9f5250d8e049",
        "colab": {
          "base_uri": "https://localhost:8080/",
          "height": 317
        }
      },
      "source": [
        "plt.hist(data[6])"
      ],
      "execution_count": 0,
      "outputs": [
        {
          "output_type": "execute_result",
          "data": {
            "text/plain": [
              "(array([402., 132.,  30.,  19.,  28.,   9.,   8.,  16.,  30.,  25.]),\n",
              " array([ 0.,  1.,  2.,  3.,  4.,  5.,  6.,  7.,  8.,  9., 10.]),\n",
              " <a list of 10 Patch objects>)"
            ]
          },
          "metadata": {
            "tags": []
          },
          "execution_count": 11
        },
        {
          "output_type": "display_data",
          "data": {
            "image/png": "[encoded data removed]",
            "text/plain": [
              "<Figure size 432x288 with 1 Axes>"
            ]
          },
          "metadata": {
            "tags": []
          }
        }
      ]
    },
    {
      "cell_type": "code",
      "metadata": {
        "id": "Hs_QU48Y6ywa",
        "colab_type": "code",
        "colab": {}
      },
      "source": [
        "def datatype(data):\n",
        "  for i in range(0,11):\n",
        "    print(type(data[i][0]),\"  \",i)"
      ],
      "execution_count": 0,
      "outputs": []
    },
    {
      "cell_type": "code",
      "metadata": {
        "id": "m_NYxuME7c8x",
        "colab_type": "code",
        "outputId": "90c7c0ab-3c47-4605-edf3-74ebb398ff77",
        "colab": {
          "base_uri": "https://localhost:8080/",
          "height": 212
        }
      },
      "source": [
        "datatype(data)"
      ],
      "execution_count": 0,
      "outputs": [
        {
          "output_type": "stream",
          "text": [
            "<class 'numpy.int64'>    0\n",
            "<class 'numpy.int64'>    1\n",
            "<class 'numpy.int64'>    2\n",
            "<class 'numpy.int64'>    3\n",
            "<class 'numpy.int64'>    4\n",
            "<class 'numpy.int64'>    5\n",
            "<class 'str'>    6\n",
            "<class 'numpy.int64'>    7\n",
            "<class 'numpy.int64'>    8\n",
            "<class 'numpy.int64'>    9\n",
            "<class 'numpy.int64'>    10\n"
          ],
          "name": "stdout"
        }
      ]
    },
    {
      "cell_type": "code",
      "metadata": {
        "id": "Lfh3luYC8OGM",
        "colab_type": "code",
        "outputId": "70b757e6-8db3-488f-c864-e583bcbbb53f",
        "colab": {
          "base_uri": "https://localhost:8080/",
          "height": 212
        }
      },
      "source": [
        "data[6]=data[6].astype('int')\n",
        "datatype(data)"
      ],
      "execution_count": 0,
      "outputs": [
        {
          "output_type": "stream",
          "text": [
            "<class 'numpy.int64'>    0\n",
            "<class 'numpy.int64'>    1\n",
            "<class 'numpy.int64'>    2\n",
            "<class 'numpy.int64'>    3\n",
            "<class 'numpy.int64'>    4\n",
            "<class 'numpy.int64'>    5\n",
            "<class 'numpy.int64'>    6\n",
            "<class 'numpy.int64'>    7\n",
            "<class 'numpy.int64'>    8\n",
            "<class 'numpy.int64'>    9\n",
            "<class 'numpy.int64'>    10\n"
          ],
          "name": "stdout"
        }
      ]
    },
    {
      "cell_type": "code",
      "metadata": {
        "id": "UnkPjsxt8UwF",
        "colab_type": "code",
        "colab": {}
      },
      "source": [
        "data=data.drop(0,axis=1)"
      ],
      "execution_count": 0,
      "outputs": []
    },
    {
      "cell_type": "code",
      "metadata": {
        "id": "CZuNf12k_fKP",
        "colab_type": "code",
        "outputId": "98a4e251-314f-4d1e-aa18-3aafe1b5045e",
        "colab": {
          "base_uri": "https://localhost:8080/",
          "height": 350
        }
      },
      "source": [
        "print(data[10].value_counts())\n",
        "a=sns.countplot(data[10])\n",
        "a.set(xlabel='Labels',ylabel='Frequency')"
      ],
      "execution_count": 0,
      "outputs": [
        {
          "output_type": "stream",
          "text": [
            "2    458\n",
            "4    241\n",
            "Name: 10, dtype: int64\n"
          ],
          "name": "stdout"
        },
        {
          "output_type": "execute_result",
          "data": {
            "text/plain": [
              "[Text(0, 0.5, 'Frequency'), Text(0.5, 0, 'Labels')]"
            ]
          },
          "metadata": {
            "tags": []
          },
          "execution_count": 16
        },
        {
          "output_type": "display_data",
          "data": {
            "image/png": "[encoded data removed]",
            "text/plain": [
              "<Figure size 432x288 with 1 Axes>"
            ]
          },
          "metadata": {
            "tags": []
          }
        }
      ]
    },
    {
      "cell_type": "code",
      "metadata": {
        "id": "TSGXUCSJA_2B",
        "colab_type": "code",
        "colab": {}
      },
      "source": [
        "values={2:0,4:1}\n",
        "data[10]=data[10].map(values)"
      ],
      "execution_count": 0,
      "outputs": []
    },
    {
      "cell_type": "code",
      "metadata": {
        "id": "oP8C66OfEIGs",
        "colab_type": "code",
        "colab": {}
      },
      "source": [
        "labels=data[10].copy()\n",
        "data=data.drop(10,axis=1)"
      ],
      "execution_count": 0,
      "outputs": []
    },
    {
      "cell_type": "code",
      "metadata": {
        "id": "9ySXr1RwEdSK",
        "colab_type": "code",
        "outputId": "a5e8d45b-bd43-4757-9add-fa317e60451d",
        "colab": {
          "base_uri": "https://localhost:8080/",
          "height": 197
        }
      },
      "source": [
        "data.head()"
      ],
      "execution_count": 0,
      "outputs": [
        {
          "output_type": "execute_result",
          "data": {
            "text/html": [
              "<div>\n",
              "<style scoped>\n",
              "    .dataframe tbody tr th:only-of-type {\n",
              "        vertical-align: middle;\n",
              "    }\n",
              "\n",
              "    .dataframe tbody tr th {\n",
              "        vertical-align: top;\n",
              "    }\n",
              "\n",
              "    .dataframe thead th {\n",
              "        text-align: right;\n",
              "    }\n",
              "</style>\n",
              "<table border=\"1\" class=\"dataframe\">\n",
              "  <thead>\n",
              "    <tr style=\"text-align: right;\">\n",
              "      <th></th>\n",
              "      <th>1</th>\n",
              "      <th>2</th>\n",
              "      <th>3</th>\n",
              "      <th>4</th>\n",
              "      <th>5</th>\n",
              "      <th>6</th>\n",
              "      <th>7</th>\n",
              "      <th>8</th>\n",
              "      <th>9</th>\n",
              "    </tr>\n",
              "  </thead>\n",
              "  <tbody>\n",
              "    <tr>\n",
              "      <th>0</th>\n",
              "      <td>5</td>\n",
              "      <td>1</td>\n",
              "      <td>1</td>\n",
              "      <td>1</td>\n",
              "      <td>2</td>\n",
              "      <td>1</td>\n",
              "      <td>3</td>\n",
              "      <td>1</td>\n",
              "      <td>1</td>\n",
              "    </tr>\n",
              "    <tr>\n",
              "      <th>1</th>\n",
              "      <td>5</td>\n",
              "      <td>4</td>\n",
              "      <td>4</td>\n",
              "      <td>5</td>\n",
              "      <td>7</td>\n",
              "      <td>10</td>\n",
              "      <td>3</td>\n",
              "      <td>2</td>\n",
              "      <td>1</td>\n",
              "    </tr>\n",
              "    <tr>\n",
              "      <th>2</th>\n",
              "      <td>3</td>\n",
              "      <td>1</td>\n",
              "      <td>1</td>\n",
              "      <td>1</td>\n",
              "      <td>2</td>\n",
              "      <td>2</td>\n",
              "      <td>3</td>\n",
              "      <td>1</td>\n",
              "      <td>1</td>\n",
              "    </tr>\n",
              "    <tr>\n",
              "      <th>3</th>\n",
              "      <td>6</td>\n",
              "      <td>8</td>\n",
              "      <td>8</td>\n",
              "      <td>1</td>\n",
              "      <td>3</td>\n",
              "      <td>4</td>\n",
              "      <td>3</td>\n",
              "      <td>7</td>\n",
              "      <td>1</td>\n",
              "    </tr>\n",
              "    <tr>\n",
              "      <th>4</th>\n",
              "      <td>4</td>\n",
              "      <td>1</td>\n",
              "      <td>1</td>\n",
              "      <td>3</td>\n",
              "      <td>2</td>\n",
              "      <td>1</td>\n",
              "      <td>3</td>\n",
              "      <td>1</td>\n",
              "      <td>1</td>\n",
              "    </tr>\n",
              "  </tbody>\n",
              "</table>\n",
              "</div>"
            ],
            "text/plain": [
              "   1  2  3  4  5   6  7  8  9\n",
              "0  5  1  1  1  2   1  3  1  1\n",
              "1  5  4  4  5  7  10  3  2  1\n",
              "2  3  1  1  1  2   2  3  1  1\n",
              "3  6  8  8  1  3   4  3  7  1\n",
              "4  4  1  1  3  2   1  3  1  1"
            ]
          },
          "metadata": {
            "tags": []
          },
          "execution_count": 19
        }
      ]
    },
    {
      "cell_type": "code",
      "metadata": {
        "id": "z11Por48EdOf",
        "colab_type": "code",
        "outputId": "2ccbc9a7-b22a-4bdf-a1ae-814e3bbc8cbd",
        "colab": {
          "base_uri": "https://localhost:8080/",
          "height": 72
        }
      },
      "source": [
        "from imblearn.over_sampling import SMOTE\n",
        "from collections import Counter"
      ],
      "execution_count": 0,
      "outputs": [
        {
          "output_type": "stream",
          "text": [
            "/usr/local/lib/python3.6/dist-packages/sklearn/externals/six.py:31: DeprecationWarning: The module is deprecated in version 0.21 and will be removed in version 0.23 since we've dropped support for Python 2.7. Please rely on the official version of six (https://pypi.org/project/six/).\n",
            "  \"(https://pypi.org/project/six/).\", DeprecationWarning)\n"
          ],
          "name": "stderr"
        }
      ]
    },
    {
      "cell_type": "code",
      "metadata": {
        "id": "PGn6ARQCJaSY",
        "colab_type": "code",
        "outputId": "642790e6-4d19-44de-e494-e624c2bd3b51",
        "colab": {
          "base_uri": "https://localhost:8080/",
          "height": 52
        }
      },
      "source": [
        "print('Original dataset shape {}'.format(Counter(labels)))\n",
        "sm=SMOTE()\n",
        "X,y=sm.fit_sample(data,labels)\n",
        "print('Now dataset shape {}'.format(Counter(y)))"
      ],
      "execution_count": 0,
      "outputs": [
        {
          "output_type": "stream",
          "text": [
            "Original dataset shape Counter({0: 458, 1: 241})\n",
            "Now dataset shape Counter({0: 458, 1: 458})\n"
          ],
          "name": "stdout"
        }
      ]
    },
    {
      "cell_type": "code",
      "metadata": {
        "id": "ANeTGPtpqrPw",
        "colab_type": "code",
        "outputId": "ccc84e61-0b1c-4971-8e41-6b4c91cbdfe4",
        "colab": {
          "base_uri": "https://localhost:8080/",
          "height": 604
        }
      },
      "source": [
        "f,ax=plt.subplots(figsize = (10,10))\n",
        "sns.heatmap(data.corr(),annot= True,linewidths=0.5,fmt = \".1f\",ax=ax)\n",
        "plt.xticks(rotation=90)\n",
        "plt.yticks(rotation=0)\n",
        "plt.title('Correlation Map')\n",
        "plt.savefig('graph.png')\n",
        "plt.show()"
      ],
      "execution_count": 0,
      "outputs": [
        {
          "output_type": "display_data",
          "data": {
            "image/png": "[encoded data removed]",
            "text/plain": [
              "<Figure size 720x720 with 2 Axes>"
            ]
          },
          "metadata": {
            "tags": []
          }
        }
      ]
    },
    {
      "cell_type": "code",
      "metadata": {
        "id": "1uQNXcGfKAy3",
        "colab_type": "code",
        "colab": {}
      },
      "source": [
        "Xtrain,Xtest,Ytrain,Ytest=train_test_split(X,y,test_size=0.2,random_state=1)"
      ],
      "execution_count": 0,
      "outputs": []
    },
    {
      "cell_type": "code",
      "metadata": {
        "id": "x5ZTeCNqK2VB",
        "colab_type": "code",
        "outputId": "4883dab7-e761-4717-e582-8e4598fed144",
        "colab": {
          "base_uri": "https://localhost:8080/",
          "height": 87
        }
      },
      "source": [
        "print(Xtest.shape)\n",
        "print(Xtrain.shape)\n",
        "print(Ytest.shape)\n",
        "print(Ytrain.shape)"
      ],
      "execution_count": 0,
      "outputs": [
        {
          "output_type": "stream",
          "text": [
            "(184, 9)\n",
            "(732, 9)\n",
            "(184,)\n",
            "(732,)\n"
          ],
          "name": "stdout"
        }
      ]
    },
    {
      "cell_type": "markdown",
      "metadata": {
        "id": "8VU43JUPLVph",
        "colab_type": "text"
      },
      "source": [
        "### Model"
      ]
    },
    {
      "cell_type": "code",
      "metadata": {
        "id": "-pKGkMwPLatr",
        "colab_type": "code",
        "colab": {}
      },
      "source": [
        "from sklearn.svm import SVC\n",
        "from sklearn.metrics import f1_score,roc_curve ,auc,accuracy_score,confusion_matrix,precision_score,recall_score"
      ],
      "execution_count": 0,
      "outputs": []
    },
    {
      "cell_type": "code",
      "metadata": {
        "id": "bxqJ8ZgHMAKw",
        "colab_type": "code",
        "colab": {}
      },
      "source": [
        "def plot_c_matrix(mat):\n",
        "  class_names = [0,1]\n",
        "  fontsize=14\n",
        "  df_conf_matrix = pd.DataFrame(mat, index=class_names, columns=class_names)\n",
        "  fig = plt.figure()\n",
        "  heatmap = sns.heatmap(df_conf_matrix, annot=True, fmt=\"d\")\n",
        "  heatmap.yaxis.set_ticklabels(heatmap.yaxis.get_ticklabels(), rotation=45, ha='right', fontsize=fontsize)\n",
        "  heatmap.xaxis.set_ticklabels(heatmap.xaxis.get_ticklabels(), rotation=45, ha='right', fontsize=fontsize)\n",
        "  heatmap.set(xlabel='Predicted label' , ylabel='True label')\n",
        "  \n",
        "def plot_roc(roc_auc):\n",
        "    #plt.title('Receiver Operating Characteristic')\n",
        "    plt.plot(fpr, tpr, 'b', label = 'AUC = %0.2f' % roc_auc)\n",
        "    plt.legend(loc = 'lower right')\n",
        "    plt.plot([0, 1], [0, 1],'r--')\n",
        "    plt.xlim([0, 1])\n",
        "    plt.ylim([0, 1])\n",
        "    plt.show()\n",
        "  "
      ],
      "execution_count": 0,
      "outputs": []
    },
    {
      "cell_type": "markdown",
      "metadata": {
        "id": "G1ljhE5buDmO",
        "colab_type": "text"
      },
      "source": [
        "## Linear Kernel"
      ]
    },
    {
      "cell_type": "code",
      "metadata": {
        "id": "XzBdnw5Qt1ui",
        "colab_type": "code",
        "outputId": "42c59049-f23a-46c6-e723-98836a9dd80d",
        "colab": {
          "base_uri": "https://localhost:8080/",
          "height": 87
        }
      },
      "source": [
        "svc_linear=SVC(kernel=\"linear\",class_weight=\"balanced\",verbose=True)\n",
        "svc_linear.fit(Xtrain,Ytrain)"
      ],
      "execution_count": 0,
      "outputs": [
        {
          "output_type": "stream",
          "text": [
            "[LibSVM]"
          ],
          "name": "stdout"
        },
        {
          "output_type": "execute_result",
          "data": {
            "text/plain": [
              "SVC(C=1.0, cache_size=200, class_weight='balanced', coef0=0.0,\n",
              "    decision_function_shape='ovr', degree=3, gamma='auto_deprecated',\n",
              "    kernel='linear', max_iter=-1, probability=False, random_state=None,\n",
              "    shrinking=True, tol=0.001, verbose=True)"
            ]
          },
          "metadata": {
            "tags": []
          },
          "execution_count": 35
        }
      ]
    },
    {
      "cell_type": "code",
      "metadata": {
        "id": "Nog36gtRuteD",
        "colab_type": "code",
        "outputId": "4b3611c4-23d5-4d73-ff8e-f12de78e23d3",
        "colab": {
          "base_uri": "https://localhost:8080/",
          "height": 105
        }
      },
      "source": [
        "y_predict=svc_linear.predict(Xtest)\n",
        "print(\"F1_score: \",f1_score(Ytest,y_predict))\n",
        "print(\"Precision:\",precision_score(Ytest, y_predict))\n",
        "print(\"Recall:\",recall_score(Ytest, y_predict))\n",
        "print(confusion_matrix(Ytest, y_predict, labels=None, sample_weight=None))"
      ],
      "execution_count": 0,
      "outputs": [
        {
          "output_type": "stream",
          "text": [
            "F1_score:  0.9613259668508287\n",
            "Precision: 0.9775280898876404\n",
            "Recall: 0.9456521739130435\n",
            "[[90  2]\n",
            " [ 5 87]]\n"
          ],
          "name": "stdout"
        }
      ]
    },
    {
      "cell_type": "code",
      "metadata": {
        "id": "tiU_xLgIvuTG",
        "colab_type": "code",
        "outputId": "41f9c74a-90cb-4627-83f8-628ae862e895",
        "colab": {
          "base_uri": "https://localhost:8080/",
          "height": 291
        }
      },
      "source": [
        "plot_c_matrix(confusion_matrix(Ytest, y_predict, labels=None, sample_weight=None))"
      ],
      "execution_count": 0,
      "outputs": [
        {
          "output_type": "display_data",
          "data": {
            "image/png": "[encoded data removed]",
            "text/plain": [
              "<Figure size 432x288 with 2 Axes>"
            ]
          },
          "metadata": {
            "tags": []
          }
        }
      ]
    },
    {
      "cell_type": "code",
      "metadata": {
        "id": "nYiHDm_tv99P",
        "colab_type": "code",
        "outputId": "29773b9f-d6fa-4530-8a13-ff363a0b414e",
        "colab": {
          "base_uri": "https://localhost:8080/",
          "height": 269
        }
      },
      "source": [
        "fpr,tpr,threshold=roc_curve(Ytest,y_predict)\n",
        "plot_roc(auc(fpr,tpr))"
      ],
      "execution_count": 0,
      "outputs": [
        {
          "output_type": "display_data",
          "data": {
            "image/png": "[encoded data removed]",
            "text/plain": [
              "<Figure size 432x288 with 1 Axes>"
            ]
          },
          "metadata": {
            "tags": []
          }
        }
      ]
    },
    {
      "cell_type": "markdown",
      "metadata": {
        "id": "wzfumZgrFPca",
        "colab_type": "text"
      },
      "source": [
        "## Sigmoid Kernel"
      ]
    },
    {
      "cell_type": "code",
      "metadata": {
        "id": "Q4tJvc1QFc0u",
        "colab_type": "code",
        "colab": {}
      },
      "source": [
        "from sklearn.preprocessing import StandardScaler\n",
        "scaler=StandardScaler()"
      ],
      "execution_count": 0,
      "outputs": []
    },
    {
      "cell_type": "code",
      "metadata": {
        "id": "RHgRjjTUFcxY",
        "colab_type": "code",
        "colab": {}
      },
      "source": [
        "X_train_std=scaler.fit_transform(Xtrain)\n",
        "X_test_std=scaler.fit_transform(Xtest)"
      ],
      "execution_count": 0,
      "outputs": []
    },
    {
      "cell_type": "code",
      "metadata": {
        "id": "evm9YYWuE0xb",
        "colab_type": "code",
        "outputId": "bf62d425-7958-4fa7-f068-4b2ead7ad798",
        "colab": {
          "base_uri": "https://localhost:8080/",
          "height": 87
        }
      },
      "source": [
        "svc_sigmoid=SVC(kernel=\"sigmoid\",class_weight=\"balanced\",verbose=True)\n",
        "svc_sigmoid.fit(X_train_std,Ytrain)"
      ],
      "execution_count": 0,
      "outputs": [
        {
          "output_type": "stream",
          "text": [
            "[LibSVM]"
          ],
          "name": "stdout"
        },
        {
          "output_type": "execute_result",
          "data": {
            "text/plain": [
              "SVC(C=1.0, cache_size=200, class_weight='balanced', coef0=0.0,\n",
              "    decision_function_shape='ovr', degree=3, gamma='auto_deprecated',\n",
              "    kernel='sigmoid', max_iter=-1, probability=False, random_state=None,\n",
              "    shrinking=True, tol=0.001, verbose=True)"
            ]
          },
          "metadata": {
            "tags": []
          },
          "execution_count": 40
        }
      ]
    },
    {
      "cell_type": "code",
      "metadata": {
        "id": "DK1wyO_TFDB_",
        "colab_type": "code",
        "outputId": "812e90eb-ecbd-47ce-bb02-14d7ed4c8552",
        "colab": {
          "base_uri": "https://localhost:8080/",
          "height": 105
        }
      },
      "source": [
        "y_predict_sigmoid = svc_sigmoid.predict(X_test_std)\n",
        "print(\"f1_score : \",f1_score(Ytest,y_predict_sigmoid))\n",
        "print(\"Precision:\",precision_score(Ytest, y_predict_sigmoid))\n",
        "print(\"Recall:\",recall_score(Ytest, y_predict_sigmoid))\n",
        "print(confusion_matrix(Ytest, y_predict_sigmoid, labels=None, sample_weight=None))"
      ],
      "execution_count": 0,
      "outputs": [
        {
          "output_type": "stream",
          "text": [
            "f1_score :  0.945054945054945\n",
            "Precision: 0.9555555555555556\n",
            "Recall: 0.9347826086956522\n",
            "[[88  4]\n",
            " [ 6 86]]\n"
          ],
          "name": "stdout"
        }
      ]
    },
    {
      "cell_type": "code",
      "metadata": {
        "id": "Gc976dVCGPId",
        "colab_type": "code",
        "outputId": "041b6d1e-ab26-4052-871a-edb803e3093b",
        "colab": {
          "base_uri": "https://localhost:8080/",
          "height": 291
        }
      },
      "source": [
        "plot_c_matrix(confusion_matrix(Ytest, y_predict_sigmoid, labels=None, sample_weight=None))"
      ],
      "execution_count": 0,
      "outputs": [
        {
          "output_type": "display_data",
          "data": {
            "image/png": "[encoded data removed]",
            "text/plain": [
              "<Figure size 432x288 with 2 Axes>"
            ]
          },
          "metadata": {
            "tags": []
          }
        }
      ]
    },
    {
      "cell_type": "code",
      "metadata": {
        "id": "dWiV1hivGlRp",
        "colab_type": "code",
        "outputId": "357907c5-7cb4-4c12-b841-85c5ba136ee2",
        "colab": {
          "base_uri": "https://localhost:8080/",
          "height": 269
        }
      },
      "source": [
        "fpr,tpr,threshold=roc_curve(Ytest,y_predict_sigmoid)\n",
        "plot_roc(auc(fpr,tpr))"
      ],
      "execution_count": 0,
      "outputs": [
        {
          "output_type": "display_data",
          "data": {
            "image/png": "[encoded data removed]",
            "text/plain": [
              "<Figure size 432x288 with 1 Axes>"
            ]
          },
          "metadata": {
            "tags": []
          }
        }
      ]
    },
    {
      "cell_type": "markdown",
      "metadata": {
        "id": "oMxnITDyK4fw",
        "colab_type": "text"
      },
      "source": [
        "## Gaussian RBF kernel"
      ]
    },
    {
      "cell_type": "code",
      "metadata": {
        "id": "NVAqddkUG98J",
        "colab_type": "code",
        "outputId": "5da236f9-2c50-443e-c759-993d63270ffe",
        "colab": {
          "base_uri": "https://localhost:8080/",
          "height": 87
        }
      },
      "source": [
        "svclassifier_rbf = SVC(kernel='rbf' , class_weight = 'balanced' ,verbose = True)  \n",
        "svclassifier_rbf.fit(X_train_std, Ytrain)"
      ],
      "execution_count": 0,
      "outputs": [
        {
          "output_type": "stream",
          "text": [
            "[LibSVM]"
          ],
          "name": "stdout"
        },
        {
          "output_type": "execute_result",
          "data": {
            "text/plain": [
              "SVC(C=1.0, cache_size=200, class_weight='balanced', coef0=0.0,\n",
              "    decision_function_shape='ovr', degree=3, gamma='auto_deprecated',\n",
              "    kernel='rbf', max_iter=-1, probability=False, random_state=None,\n",
              "    shrinking=True, tol=0.001, verbose=True)"
            ]
          },
          "metadata": {
            "tags": []
          },
          "execution_count": 43
        }
      ]
    },
    {
      "cell_type": "code",
      "metadata": {
        "id": "r4Pfv9ALLQE2",
        "colab_type": "code",
        "outputId": "aebc927a-09d5-4f60-d8b5-9e0ed92df716",
        "colab": {
          "base_uri": "https://localhost:8080/",
          "height": 105
        }
      },
      "source": [
        "y_predict_rbf = svclassifier_rbf.predict(X_test_std)\n",
        "print(\"f1_score : \",f1_score(Ytest,y_predict_rbf))\n",
        "print(\"Precision:\",precision_score(Ytest, y_predict_rbf))\n",
        "print(\"Recall:\",recall_score(Ytest, y_predict_rbf))\n",
        "print(confusion_matrix(Ytest, y_predict_rbf, labels=None, sample_weight=None))"
      ],
      "execution_count": 0,
      "outputs": [
        {
          "output_type": "stream",
          "text": [
            "f1_score :  0.9565217391304348\n",
            "Precision: 0.9565217391304348\n",
            "Recall: 0.9565217391304348\n",
            "[[88  4]\n",
            " [ 4 88]]\n"
          ],
          "name": "stdout"
        }
      ]
    },
    {
      "cell_type": "code",
      "metadata": {
        "id": "91qFoq2bLwSe",
        "colab_type": "code",
        "outputId": "5487de0c-32bc-411f-e763-4ace601f25e7",
        "colab": {
          "base_uri": "https://localhost:8080/",
          "height": 291
        }
      },
      "source": [
        "plot_c_matrix(confusion_matrix(Ytest, y_predict_rbf, labels=None, sample_weight=None))"
      ],
      "execution_count": 0,
      "outputs": [
        {
          "output_type": "display_data",
          "data": {
            "image/png": "[encoded data removed]",
            "text/plain": [
              "<Figure size 432x288 with 2 Axes>"
            ]
          },
          "metadata": {
            "tags": []
          }
        }
      ]
    },
    {
      "cell_type": "code",
      "metadata": {
        "colab_type": "code",
        "outputId": "1eb2248e-30e7-4acc-8d0b-a2af0e5e10df",
        "id": "h_boGoG9MZWh",
        "colab": {
          "base_uri": "https://localhost:8080/",
          "height": 269
        }
      },
      "source": [
        "fpr,tpr,threshold=roc_curve(Ytest,y_predict_rbf)\n",
        "plot_roc(auc(fpr,tpr))"
      ],
      "execution_count": 0,
      "outputs": [
        {
          "output_type": "display_data",
          "data": {
            "image/png": "[encoded data removed]",
            "text/plain": [
              "<Figure size 432x288 with 1 Axes>"
            ]
          },
          "metadata": {
            "tags": []
          }
        }
      ]
    },
    {
      "cell_type": "markdown",
      "metadata": {
        "id": "bFfU78niMis9",
        "colab_type": "text"
      },
      "source": [
        "# Poly kernel"
      ]
    },
    {
      "cell_type": "code",
      "metadata": {
        "id": "oRbBVdL7Mc7y",
        "colab_type": "code",
        "outputId": "54dd1e3b-f445-45ac-deae-711c00e2646e",
        "colab": {
          "base_uri": "https://localhost:8080/",
          "height": 87
        }
      },
      "source": [
        "svclassifier_poly = SVC(kernel='poly',verbose = True)  \n",
        "svclassifier_poly.fit(X_train_std, Ytrain)"
      ],
      "execution_count": 0,
      "outputs": [
        {
          "output_type": "stream",
          "text": [
            "[LibSVM]"
          ],
          "name": "stdout"
        },
        {
          "output_type": "execute_result",
          "data": {
            "text/plain": [
              "SVC(C=1.0, cache_size=200, class_weight=None, coef0=0.0,\n",
              "    decision_function_shape='ovr', degree=3, gamma='auto_deprecated',\n",
              "    kernel='poly', max_iter=-1, probability=False, random_state=None,\n",
              "    shrinking=True, tol=0.001, verbose=True)"
            ]
          },
          "metadata": {
            "tags": []
          },
          "execution_count": 46
        }
      ]
    },
    {
      "cell_type": "code",
      "metadata": {
        "id": "O-5QyrRzMyWD",
        "colab_type": "code",
        "outputId": "6bddd97d-710d-4555-e4be-1f05544a9e1d",
        "colab": {
          "base_uri": "https://localhost:8080/",
          "height": 105
        }
      },
      "source": [
        "y_predict_poly = svclassifier_poly.predict(X_test_std)\n",
        "print(\"f1_score : \",f1_score(Ytest,y_predict_poly))\n",
        "print(\"Precision:\",precision_score(Ytest, y_predict_poly))\n",
        "print(\"Recall:\",recall_score(Ytest, y_predict_poly))\n",
        "print(confusion_matrix(Ytest, y_predict_poly, labels=None, sample_weight=None))"
      ],
      "execution_count": 0,
      "outputs": [
        {
          "output_type": "stream",
          "text": [
            "f1_score :  0.972972972972973\n",
            "Precision: 0.967741935483871\n",
            "Recall: 0.9782608695652174\n",
            "[[89  3]\n",
            " [ 2 90]]\n"
          ],
          "name": "stdout"
        }
      ]
    },
    {
      "cell_type": "code",
      "metadata": {
        "id": "ffqY85r9NAEu",
        "colab_type": "code",
        "outputId": "ffab69d0-0393-491e-ba9b-bd96d305b80a",
        "colab": {
          "base_uri": "https://localhost:8080/",
          "height": 291
        }
      },
      "source": [
        "plot_c_matrix(confusion_matrix(Ytest, y_predict_poly, labels=None, sample_weight=None))"
      ],
      "execution_count": 0,
      "outputs": [
        {
          "output_type": "display_data",
          "data": {
            "image/png": "[encoded data removed]",
            "text/plain": [
              "<Figure size 432x288 with 2 Axes>"
            ]
          },
          "metadata": {
            "tags": []
          }
        }
      ]
    },
    {
      "cell_type": "code",
      "metadata": {
        "id": "B64iyqBpNNxr",
        "colab_type": "code",
        "outputId": "58572a89-33c3-44d2-ef39-3be6835e2809",
        "colab": {
          "base_uri": "https://localhost:8080/",
          "height": 269
        }
      },
      "source": [
        "fpr,tpr,threshold=roc_curve(Ytest,y_predict_poly)\n",
        "plot_roc(auc(fpr,tpr))"
      ],
      "execution_count": 0,
      "outputs": [
        {
          "output_type": "display_data",
          "data": {
            "image/png": "[encoded data removed]",
            "text/plain": [
              "<Figure size 432x288 with 1 Axes>"
            ]
          },
          "metadata": {
            "tags": []
          }
        }
      ]
    },
    {
      "cell_type": "markdown",
      "metadata": {
        "id": "4Aa9JfBYr9MQ",
        "colab_type": "text"
      },
      "source": [
        "## Result"
      ]
    },
    {
      "cell_type": "code",
      "metadata": {
        "id": "CL5XhcM-5hCs",
        "colab_type": "code",
        "colab": {}
      },
      "source": [
        "Linear Kernel: 0.961\n",
        "Sigmoid Kernel: 0.945\n",
        "Gaussian RBF kernel: 0.956\n",
        "Poly Kernel: 0.972"
      ],
      "execution_count": 0,
      "outputs": []
    },
    {
      "cell_type": "code",
      "metadata": {
        "id": "KJe-FIre7_gf",
        "colab_type": "code",
        "colab": {}
      },
      "source": [
        ""
      ],
      "execution_count": 0,
      "outputs": []
    }
  ]
}